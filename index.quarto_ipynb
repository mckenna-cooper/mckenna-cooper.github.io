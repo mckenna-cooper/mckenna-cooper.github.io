{
  "cells": [
    {
      "cell_type": "markdown",
      "metadata": {},
      "source": [
        "---\n",
        "title: \"Mckenna Cooper\"\n",
        "---\n",
        "\n",
        "\n",
        "This is a Quarto website.\n",
        "\n",
        "To learn more about Quarto websites visit <https://quarto.org/docs/websites>.\n",
        "\n",
        "\n",
        "```{hi}\n",
        "```"
      ],
      "id": "0be1249e"
    }
  ],
  "metadata": {
    "kernelspec": {
      "display_name": "Python 3",
      "language": "python",
      "name": "python3"
    }
  },
  "nbformat": 4,
  "nbformat_minor": 5
}